{
 "cells": [
  {
   "cell_type": "code",
   "execution_count": 1,
   "metadata": {},
   "outputs": [],
   "source": [
    "import sys\n",
    "sys.path.append(r'C:\\Users\\loren\\OneDrive\\Desktop\\Workbench\\stock-project')\n",
    "from src.extract.extract import DataExtract\n",
    "from src.model.lstm_pred import TimeSeriesPredictor\n",
    "from src.model.enhanced_lstm_pred import EnhancedTimeSeriesPredictor"
   ]
  },
  {
   "cell_type": "markdown",
   "metadata": {},
   "source": [
    "### estrazione dei dati"
   ]
  },
  {
   "cell_type": "code",
   "execution_count": 2,
   "metadata": {},
   "outputs": [
    {
     "name": "stderr",
     "output_type": "stream",
     "text": [
      "[*********************100%***********************]  1 of 1 completed\n",
      "info - reading IBM\n",
      "DONE! - reading IBM\n"
     ]
    }
   ],
   "source": [
    "df = DataExtract('IBM').read()"
   ]
  },
  {
   "cell_type": "code",
   "execution_count": 3,
   "metadata": {},
   "outputs": [
    {
     "data": {
      "text/html": [
       "<div>\n",
       "<style scoped>\n",
       "    .dataframe tbody tr th:only-of-type {\n",
       "        vertical-align: middle;\n",
       "    }\n",
       "\n",
       "    .dataframe tbody tr th {\n",
       "        vertical-align: top;\n",
       "    }\n",
       "\n",
       "    .dataframe thead tr th {\n",
       "        text-align: left;\n",
       "    }\n",
       "\n",
       "    .dataframe thead tr:last-of-type th {\n",
       "        text-align: right;\n",
       "    }\n",
       "</style>\n",
       "<table border=\"1\" class=\"dataframe\">\n",
       "  <thead>\n",
       "    <tr>\n",
       "      <th>Price</th>\n",
       "      <th>Adj Close</th>\n",
       "      <th>Close</th>\n",
       "      <th>High</th>\n",
       "      <th>Low</th>\n",
       "      <th>Open</th>\n",
       "      <th>Volume</th>\n",
       "      <th>ADJ_NORMALIZE</th>\n",
       "      <th>EWM_12</th>\n",
       "      <th>EWM_26</th>\n",
       "      <th>RSI</th>\n",
       "      <th>MACD</th>\n",
       "      <th>MACD_signal</th>\n",
       "      <th>MACD_hist</th>\n",
       "    </tr>\n",
       "    <tr>\n",
       "      <th>Ticker</th>\n",
       "      <th>IBM</th>\n",
       "      <th>IBM</th>\n",
       "      <th>IBM</th>\n",
       "      <th>IBM</th>\n",
       "      <th>IBM</th>\n",
       "      <th>IBM</th>\n",
       "      <th></th>\n",
       "      <th></th>\n",
       "      <th></th>\n",
       "      <th></th>\n",
       "      <th></th>\n",
       "      <th></th>\n",
       "      <th></th>\n",
       "    </tr>\n",
       "    <tr>\n",
       "      <th>Date</th>\n",
       "      <th></th>\n",
       "      <th></th>\n",
       "      <th></th>\n",
       "      <th></th>\n",
       "      <th></th>\n",
       "      <th></th>\n",
       "      <th></th>\n",
       "      <th></th>\n",
       "      <th></th>\n",
       "      <th></th>\n",
       "      <th></th>\n",
       "      <th></th>\n",
       "      <th></th>\n",
       "    </tr>\n",
       "  </thead>\n",
       "  <tbody>\n",
       "    <tr>\n",
       "      <th>2024-12-02</th>\n",
       "      <td>227.389999</td>\n",
       "      <td>227.389999</td>\n",
       "      <td>228.380005</td>\n",
       "      <td>225.509995</td>\n",
       "      <td>227.500000</td>\n",
       "      <td>2655900</td>\n",
       "      <td>0.935646</td>\n",
       "      <td>221.620281</td>\n",
       "      <td>218.391808</td>\n",
       "      <td>65.783263</td>\n",
       "      <td>3.228473</td>\n",
       "      <td>1.112566</td>\n",
       "      <td>2.115907</td>\n",
       "    </tr>\n",
       "    <tr>\n",
       "      <th>2024-12-03</th>\n",
       "      <td>229.000000</td>\n",
       "      <td>229.000000</td>\n",
       "      <td>229.110001</td>\n",
       "      <td>226.669998</td>\n",
       "      <td>227.240005</td>\n",
       "      <td>3163800</td>\n",
       "      <td>0.945374</td>\n",
       "      <td>222.755622</td>\n",
       "      <td>219.177600</td>\n",
       "      <td>67.590416</td>\n",
       "      <td>3.578022</td>\n",
       "      <td>1.605657</td>\n",
       "      <td>1.972365</td>\n",
       "    </tr>\n",
       "    <tr>\n",
       "      <th>2024-12-04</th>\n",
       "      <td>233.490005</td>\n",
       "      <td>233.490005</td>\n",
       "      <td>233.740005</td>\n",
       "      <td>229.350006</td>\n",
       "      <td>230.000000</td>\n",
       "      <td>4104200</td>\n",
       "      <td>0.972506</td>\n",
       "      <td>224.407066</td>\n",
       "      <td>220.237778</td>\n",
       "      <td>72.027461</td>\n",
       "      <td>4.169288</td>\n",
       "      <td>2.118383</td>\n",
       "      <td>2.050904</td>\n",
       "    </tr>\n",
       "    <tr>\n",
       "      <th>2024-12-05</th>\n",
       "      <td>234.750000</td>\n",
       "      <td>234.750000</td>\n",
       "      <td>236.520004</td>\n",
       "      <td>233.460007</td>\n",
       "      <td>233.550003</td>\n",
       "      <td>4791100</td>\n",
       "      <td>0.980120</td>\n",
       "      <td>225.998286</td>\n",
       "      <td>221.312757</td>\n",
       "      <td>73.138814</td>\n",
       "      <td>4.685529</td>\n",
       "      <td>2.631812</td>\n",
       "      <td>2.053717</td>\n",
       "    </tr>\n",
       "    <tr>\n",
       "      <th>2024-12-06</th>\n",
       "      <td>238.039993</td>\n",
       "      <td>238.039993</td>\n",
       "      <td>238.380005</td>\n",
       "      <td>234.220001</td>\n",
       "      <td>234.429993</td>\n",
       "      <td>4027600</td>\n",
       "      <td>1.000000</td>\n",
       "      <td>227.850857</td>\n",
       "      <td>222.551812</td>\n",
       "      <td>75.838174</td>\n",
       "      <td>5.299045</td>\n",
       "      <td>3.165259</td>\n",
       "      <td>2.133786</td>\n",
       "    </tr>\n",
       "  </tbody>\n",
       "</table>\n",
       "</div>"
      ],
      "text/plain": [
       "Price        Adj Close       Close        High         Low        Open  \\\n",
       "Ticker             IBM         IBM         IBM         IBM         IBM   \n",
       "Date                                                                     \n",
       "2024-12-02  227.389999  227.389999  228.380005  225.509995  227.500000   \n",
       "2024-12-03  229.000000  229.000000  229.110001  226.669998  227.240005   \n",
       "2024-12-04  233.490005  233.490005  233.740005  229.350006  230.000000   \n",
       "2024-12-05  234.750000  234.750000  236.520004  233.460007  233.550003   \n",
       "2024-12-06  238.039993  238.039993  238.380005  234.220001  234.429993   \n",
       "\n",
       "Price        Volume ADJ_NORMALIZE      EWM_12      EWM_26        RSI  \\\n",
       "Ticker          IBM                                                    \n",
       "Date                                                                   \n",
       "2024-12-02  2655900      0.935646  221.620281  218.391808  65.783263   \n",
       "2024-12-03  3163800      0.945374  222.755622  219.177600  67.590416   \n",
       "2024-12-04  4104200      0.972506  224.407066  220.237778  72.027461   \n",
       "2024-12-05  4791100      0.980120  225.998286  221.312757  73.138814   \n",
       "2024-12-06  4027600      1.000000  227.850857  222.551812  75.838174   \n",
       "\n",
       "Price           MACD MACD_signal MACD_hist  \n",
       "Ticker                                      \n",
       "Date                                        \n",
       "2024-12-02  3.228473    1.112566  2.115907  \n",
       "2024-12-03  3.578022    1.605657  1.972365  \n",
       "2024-12-04  4.169288    2.118383  2.050904  \n",
       "2024-12-05  4.685529    2.631812  2.053717  \n",
       "2024-12-06  5.299045    3.165259  2.133786  "
      ]
     },
     "execution_count": 3,
     "metadata": {},
     "output_type": "execute_result"
    }
   ],
   "source": [
    "df.tail()"
   ]
  },
  {
   "cell_type": "markdown",
   "metadata": {},
   "source": [
    "### previsione del prezzo di settimana prossima"
   ]
  },
  {
   "cell_type": "code",
   "execution_count": 5,
   "metadata": {},
   "outputs": [
    {
     "name": "stderr",
     "output_type": "stream",
     "text": [
      "info - start forecast\n",
      "Preparazione dati per previsione serie temporale\n",
      "Preparazione dati completata\n",
      "Addestramento modello autoregressivo LSTM\n",
      "Avvio GridSearch per ottimizzazione parametri\n",
      "Inizio GridSearch per ottimizzazione dei parametri\n",
      "Test combinazione parametri: {'batch_size': 16, 'epochs': 20, 'lookback': 30, 'units': 50}\n",
      "Preparazione dati per previsione serie temporale\n",
      "Preparazione dati completata\n",
      "Previsione serie temporale autoregressiva\n"
     ]
    },
    {
     "name": "stdout",
     "output_type": "stream",
     "text": [
      "\u001b[1m1/1\u001b[0m \u001b[32m━━━━━━━━━━━━━━━━━━━━\u001b[0m\u001b[37m\u001b[0m \u001b[1m0s\u001b[0m 103ms/step\n"
     ]
    },
    {
     "name": "stderr",
     "output_type": "stream",
     "text": [
      "MAE con parametri {'batch_size': 16, 'epochs': 20, 'lookback': 30, 'units': 50}: 0.04170891339064795\n",
      "Test combinazione parametri: {'batch_size': 16, 'epochs': 20, 'lookback': 30, 'units': 100}\n",
      "Preparazione dati per previsione serie temporale\n",
      "Preparazione dati completata\n",
      "Previsione serie temporale autoregressiva\n"
     ]
    },
    {
     "name": "stdout",
     "output_type": "stream",
     "text": [
      "\u001b[1m1/1\u001b[0m \u001b[32m━━━━━━━━━━━━━━━━━━━━\u001b[0m\u001b[37m\u001b[0m \u001b[1m0s\u001b[0m 102ms/step\n"
     ]
    },
    {
     "name": "stderr",
     "output_type": "stream",
     "text": [
      "MAE con parametri {'batch_size': 16, 'epochs': 20, 'lookback': 30, 'units': 100}: 0.0137177131231363\n",
      "Test combinazione parametri: {'batch_size': 16, 'epochs': 20, 'lookback': 60, 'units': 50}\n",
      "Preparazione dati per previsione serie temporale\n",
      "Preparazione dati completata\n",
      "Previsione serie temporale autoregressiva\n"
     ]
    },
    {
     "name": "stdout",
     "output_type": "stream",
     "text": [
      "\u001b[1m1/1\u001b[0m \u001b[32m━━━━━━━━━━━━━━━━━━━━\u001b[0m\u001b[37m\u001b[0m \u001b[1m0s\u001b[0m 102ms/step\n"
     ]
    },
    {
     "name": "stderr",
     "output_type": "stream",
     "text": [
      "MAE con parametri {'batch_size': 16, 'epochs': 20, 'lookback': 60, 'units': 50}: 0.01847772813397004\n",
      "Test combinazione parametri: {'batch_size': 16, 'epochs': 20, 'lookback': 60, 'units': 100}\n",
      "Preparazione dati per previsione serie temporale\n",
      "Preparazione dati completata\n",
      "Previsione serie temporale autoregressiva\n",
      "5 out of the last 5 calls to <function TensorFlowTrainer.make_predict_function.<locals>.one_step_on_data_distributed at 0x000001FBBC71B3A0> triggered tf.function retracing. Tracing is expensive and the excessive number of tracings could be due to (1) creating @tf.function repeatedly in a loop, (2) passing tensors with different shapes, (3) passing Python objects instead of tensors. For (1), please define your @tf.function outside of the loop. For (2), @tf.function has reduce_retracing=True option that can avoid unnecessary retracing. For (3), please refer to https://www.tensorflow.org/guide/function#controlling_retracing and https://www.tensorflow.org/api_docs/python/tf/function for  more details.\n"
     ]
    },
    {
     "name": "stdout",
     "output_type": "stream",
     "text": [
      "\u001b[1m1/1\u001b[0m \u001b[32m━━━━━━━━━━━━━━━━━━━━\u001b[0m\u001b[37m\u001b[0m \u001b[1m0s\u001b[0m 100ms/step\n"
     ]
    },
    {
     "name": "stderr",
     "output_type": "stream",
     "text": [
      "MAE con parametri {'batch_size': 16, 'epochs': 20, 'lookback': 60, 'units': 100}: 0.016632309501182618\n",
      "Test combinazione parametri: {'batch_size': 16, 'epochs': 20, 'lookback': 90, 'units': 50}\n",
      "Preparazione dati per previsione serie temporale\n",
      "Preparazione dati completata\n",
      "Previsione serie temporale autoregressiva\n",
      "6 out of the last 6 calls to <function TensorFlowTrainer.make_predict_function.<locals>.one_step_on_data_distributed at 0x000001FBBC66D700> triggered tf.function retracing. Tracing is expensive and the excessive number of tracings could be due to (1) creating @tf.function repeatedly in a loop, (2) passing tensors with different shapes, (3) passing Python objects instead of tensors. For (1), please define your @tf.function outside of the loop. For (2), @tf.function has reduce_retracing=True option that can avoid unnecessary retracing. For (3), please refer to https://www.tensorflow.org/guide/function#controlling_retracing and https://www.tensorflow.org/api_docs/python/tf/function for  more details.\n"
     ]
    },
    {
     "name": "stdout",
     "output_type": "stream",
     "text": [
      "\u001b[1m1/1\u001b[0m \u001b[32m━━━━━━━━━━━━━━━━━━━━\u001b[0m\u001b[37m\u001b[0m \u001b[1m0s\u001b[0m 177ms/step\n"
     ]
    },
    {
     "name": "stderr",
     "output_type": "stream",
     "text": [
      "MAE con parametri {'batch_size': 16, 'epochs': 20, 'lookback': 90, 'units': 50}: 0.020633552785410993\n",
      "Test combinazione parametri: {'batch_size': 16, 'epochs': 20, 'lookback': 90, 'units': 100}\n",
      "Preparazione dati per previsione serie temporale\n",
      "Preparazione dati completata\n",
      "Previsione serie temporale autoregressiva\n"
     ]
    },
    {
     "name": "stdout",
     "output_type": "stream",
     "text": [
      "\u001b[1m1/1\u001b[0m \u001b[32m━━━━━━━━━━━━━━━━━━━━\u001b[0m\u001b[37m\u001b[0m \u001b[1m0s\u001b[0m 170ms/step\n"
     ]
    },
    {
     "name": "stderr",
     "output_type": "stream",
     "text": [
      "MAE con parametri {'batch_size': 16, 'epochs': 20, 'lookback': 90, 'units': 100}: 0.016493449922099224\n",
      "Test combinazione parametri: {'batch_size': 16, 'epochs': 50, 'lookback': 30, 'units': 50}\n",
      "Preparazione dati per previsione serie temporale\n",
      "Preparazione dati completata\n",
      "Previsione serie temporale autoregressiva\n"
     ]
    },
    {
     "name": "stdout",
     "output_type": "stream",
     "text": [
      "\u001b[1m1/1\u001b[0m \u001b[32m━━━━━━━━━━━━━━━━━━━━\u001b[0m\u001b[37m\u001b[0m \u001b[1m0s\u001b[0m 169ms/step\n"
     ]
    },
    {
     "name": "stderr",
     "output_type": "stream",
     "text": [
      "MAE con parametri {'batch_size': 16, 'epochs': 50, 'lookback': 30, 'units': 50}: 0.02024319464446265\n",
      "Test combinazione parametri: {'batch_size': 16, 'epochs': 50, 'lookback': 30, 'units': 100}\n",
      "Preparazione dati per previsione serie temporale\n",
      "Preparazione dati completata\n",
      "Previsione serie temporale autoregressiva\n"
     ]
    },
    {
     "name": "stdout",
     "output_type": "stream",
     "text": [
      "\u001b[1m1/1\u001b[0m \u001b[32m━━━━━━━━━━━━━━━━━━━━\u001b[0m\u001b[37m\u001b[0m \u001b[1m0s\u001b[0m 159ms/step\n"
     ]
    },
    {
     "name": "stderr",
     "output_type": "stream",
     "text": [
      "MAE con parametri {'batch_size': 16, 'epochs': 50, 'lookback': 30, 'units': 100}: 0.010347677885275885\n",
      "Test combinazione parametri: {'batch_size': 16, 'epochs': 50, 'lookback': 60, 'units': 50}\n",
      "Preparazione dati per previsione serie temporale\n",
      "Preparazione dati completata\n",
      "Previsione serie temporale autoregressiva\n"
     ]
    },
    {
     "name": "stdout",
     "output_type": "stream",
     "text": [
      "\u001b[1m1/1\u001b[0m \u001b[32m━━━━━━━━━━━━━━━━━━━━\u001b[0m\u001b[37m\u001b[0m \u001b[1m0s\u001b[0m 170ms/step\n"
     ]
    },
    {
     "name": "stderr",
     "output_type": "stream",
     "text": [
      "MAE con parametri {'batch_size': 16, 'epochs': 50, 'lookback': 60, 'units': 50}: 0.03789369767426294\n",
      "Test combinazione parametri: {'batch_size': 16, 'epochs': 50, 'lookback': 60, 'units': 100}\n",
      "Preparazione dati per previsione serie temporale\n",
      "Preparazione dati completata\n",
      "Previsione serie temporale autoregressiva\n"
     ]
    },
    {
     "name": "stdout",
     "output_type": "stream",
     "text": [
      "\u001b[1m1/1\u001b[0m \u001b[32m━━━━━━━━━━━━━━━━━━━━\u001b[0m\u001b[37m\u001b[0m \u001b[1m0s\u001b[0m 174ms/step\n"
     ]
    },
    {
     "name": "stderr",
     "output_type": "stream",
     "text": [
      "MAE con parametri {'batch_size': 16, 'epochs': 50, 'lookback': 60, 'units': 100}: 0.027466020042884766\n",
      "Test combinazione parametri: {'batch_size': 16, 'epochs': 50, 'lookback': 90, 'units': 50}\n",
      "Preparazione dati per previsione serie temporale\n",
      "Preparazione dati completata\n",
      "Previsione serie temporale autoregressiva\n"
     ]
    },
    {
     "name": "stdout",
     "output_type": "stream",
     "text": [
      "\u001b[1m1/1\u001b[0m \u001b[32m━━━━━━━━━━━━━━━━━━━━\u001b[0m\u001b[37m\u001b[0m \u001b[1m0s\u001b[0m 164ms/step\n"
     ]
    },
    {
     "name": "stderr",
     "output_type": "stream",
     "text": [
      "MAE con parametri {'batch_size': 16, 'epochs': 50, 'lookback': 90, 'units': 50}: 0.015544095580589357\n",
      "Test combinazione parametri: {'batch_size': 16, 'epochs': 50, 'lookback': 90, 'units': 100}\n",
      "Preparazione dati per previsione serie temporale\n",
      "Preparazione dati completata\n",
      "Previsione serie temporale autoregressiva\n"
     ]
    },
    {
     "name": "stdout",
     "output_type": "stream",
     "text": [
      "\u001b[1m1/1\u001b[0m \u001b[32m━━━━━━━━━━━━━━━━━━━━\u001b[0m\u001b[37m\u001b[0m \u001b[1m0s\u001b[0m 176ms/step\n"
     ]
    },
    {
     "name": "stderr",
     "output_type": "stream",
     "text": [
      "MAE con parametri {'batch_size': 16, 'epochs': 50, 'lookback': 90, 'units': 100}: 0.026626953537452636\n",
      "Test combinazione parametri: {'batch_size': 32, 'epochs': 20, 'lookback': 30, 'units': 50}\n",
      "Preparazione dati per previsione serie temporale\n",
      "Preparazione dati completata\n",
      "Previsione serie temporale autoregressiva\n"
     ]
    },
    {
     "name": "stdout",
     "output_type": "stream",
     "text": [
      "\u001b[1m1/1\u001b[0m \u001b[32m━━━━━━━━━━━━━━━━━━━━\u001b[0m\u001b[37m\u001b[0m \u001b[1m0s\u001b[0m 176ms/step\n"
     ]
    },
    {
     "name": "stderr",
     "output_type": "stream",
     "text": [
      "MAE con parametri {'batch_size': 32, 'epochs': 20, 'lookback': 30, 'units': 50}: 0.04512063557387549\n",
      "Test combinazione parametri: {'batch_size': 32, 'epochs': 20, 'lookback': 30, 'units': 100}\n",
      "Preparazione dati per previsione serie temporale\n",
      "Preparazione dati completata\n",
      "Previsione serie temporale autoregressiva\n"
     ]
    },
    {
     "name": "stdout",
     "output_type": "stream",
     "text": [
      "\u001b[1m1/1\u001b[0m \u001b[32m━━━━━━━━━━━━━━━━━━━━\u001b[0m\u001b[37m\u001b[0m \u001b[1m0s\u001b[0m 200ms/step\n"
     ]
    },
    {
     "name": "stderr",
     "output_type": "stream",
     "text": [
      "MAE con parametri {'batch_size': 32, 'epochs': 20, 'lookback': 30, 'units': 100}: 0.0971068769145127\n",
      "Test combinazione parametri: {'batch_size': 32, 'epochs': 20, 'lookback': 60, 'units': 50}\n",
      "Preparazione dati per previsione serie temporale\n",
      "Preparazione dati completata\n",
      "Previsione serie temporale autoregressiva\n"
     ]
    },
    {
     "name": "stdout",
     "output_type": "stream",
     "text": [
      "\u001b[1m1/1\u001b[0m \u001b[32m━━━━━━━━━━━━━━━━━━━━\u001b[0m\u001b[37m\u001b[0m \u001b[1m0s\u001b[0m 162ms/step\n"
     ]
    },
    {
     "name": "stderr",
     "output_type": "stream",
     "text": [
      "MAE con parametri {'batch_size': 32, 'epochs': 20, 'lookback': 60, 'units': 50}: 0.04141284519911963\n",
      "Test combinazione parametri: {'batch_size': 32, 'epochs': 20, 'lookback': 60, 'units': 100}\n",
      "Preparazione dati per previsione serie temporale\n",
      "Preparazione dati completata\n",
      "Previsione serie temporale autoregressiva\n"
     ]
    },
    {
     "name": "stdout",
     "output_type": "stream",
     "text": [
      "\u001b[1m1/1\u001b[0m \u001b[32m━━━━━━━━━━━━━━━━━━━━\u001b[0m\u001b[37m\u001b[0m \u001b[1m0s\u001b[0m 180ms/step\n"
     ]
    },
    {
     "name": "stderr",
     "output_type": "stream",
     "text": [
      "MAE con parametri {'batch_size': 32, 'epochs': 20, 'lookback': 60, 'units': 100}: 0.08626550728560645\n",
      "Test combinazione parametri: {'batch_size': 32, 'epochs': 20, 'lookback': 90, 'units': 50}\n",
      "Preparazione dati per previsione serie temporale\n",
      "Preparazione dati completata\n",
      "Previsione serie temporale autoregressiva\n"
     ]
    },
    {
     "name": "stdout",
     "output_type": "stream",
     "text": [
      "\u001b[1m1/1\u001b[0m \u001b[32m━━━━━━━━━━━━━━━━━━━━\u001b[0m\u001b[37m\u001b[0m \u001b[1m0s\u001b[0m 170ms/step\n"
     ]
    },
    {
     "name": "stderr",
     "output_type": "stream",
     "text": [
      "MAE con parametri {'batch_size': 32, 'epochs': 20, 'lookback': 90, 'units': 50}: 0.015210296874814766\n",
      "Test combinazione parametri: {'batch_size': 32, 'epochs': 20, 'lookback': 90, 'units': 100}\n",
      "Preparazione dati per previsione serie temporale\n",
      "Preparazione dati completata\n",
      "Previsione serie temporale autoregressiva\n"
     ]
    },
    {
     "name": "stdout",
     "output_type": "stream",
     "text": [
      "\u001b[1m1/1\u001b[0m \u001b[32m━━━━━━━━━━━━━━━━━━━━\u001b[0m\u001b[37m\u001b[0m \u001b[1m0s\u001b[0m 178ms/step\n"
     ]
    },
    {
     "name": "stderr",
     "output_type": "stream",
     "text": [
      "MAE con parametri {'batch_size': 32, 'epochs': 20, 'lookback': 90, 'units': 100}: 0.0470951467204209\n",
      "Test combinazione parametri: {'batch_size': 32, 'epochs': 50, 'lookback': 30, 'units': 50}\n",
      "Preparazione dati per previsione serie temporale\n",
      "Preparazione dati completata\n",
      "Previsione serie temporale autoregressiva\n"
     ]
    },
    {
     "name": "stdout",
     "output_type": "stream",
     "text": [
      "\u001b[1m1/1\u001b[0m \u001b[32m━━━━━━━━━━━━━━━━━━━━\u001b[0m\u001b[37m\u001b[0m \u001b[1m0s\u001b[0m 183ms/step\n"
     ]
    },
    {
     "name": "stderr",
     "output_type": "stream",
     "text": [
      "MAE con parametri {'batch_size': 32, 'epochs': 50, 'lookback': 30, 'units': 50}: 0.06573261315108496\n",
      "Test combinazione parametri: {'batch_size': 32, 'epochs': 50, 'lookback': 30, 'units': 100}\n",
      "Preparazione dati per previsione serie temporale\n",
      "Preparazione dati completata\n",
      "Previsione serie temporale autoregressiva\n"
     ]
    },
    {
     "name": "stdout",
     "output_type": "stream",
     "text": [
      "\u001b[1m1/1\u001b[0m \u001b[32m━━━━━━━━━━━━━━━━━━━━\u001b[0m\u001b[37m\u001b[0m \u001b[1m0s\u001b[0m 175ms/step\n"
     ]
    },
    {
     "name": "stderr",
     "output_type": "stream",
     "text": [
      "MAE con parametri {'batch_size': 32, 'epochs': 50, 'lookback': 30, 'units': 100}: 0.01211568332272126\n",
      "Test combinazione parametri: {'batch_size': 32, 'epochs': 50, 'lookback': 60, 'units': 50}\n",
      "Preparazione dati per previsione serie temporale\n",
      "Preparazione dati completata\n",
      "Previsione serie temporale autoregressiva\n"
     ]
    },
    {
     "name": "stdout",
     "output_type": "stream",
     "text": [
      "\u001b[1m1/1\u001b[0m \u001b[32m━━━━━━━━━━━━━━━━━━━━\u001b[0m\u001b[37m\u001b[0m \u001b[1m0s\u001b[0m 171ms/step\n"
     ]
    },
    {
     "name": "stderr",
     "output_type": "stream",
     "text": [
      "MAE con parametri {'batch_size': 32, 'epochs': 50, 'lookback': 60, 'units': 50}: 0.03149488916963596\n",
      "Test combinazione parametri: {'batch_size': 32, 'epochs': 50, 'lookback': 60, 'units': 100}\n",
      "Preparazione dati per previsione serie temporale\n",
      "Preparazione dati completata\n",
      "Previsione serie temporale autoregressiva\n"
     ]
    },
    {
     "name": "stdout",
     "output_type": "stream",
     "text": [
      "\u001b[1m1/1\u001b[0m \u001b[32m━━━━━━━━━━━━━━━━━━━━\u001b[0m\u001b[37m\u001b[0m \u001b[1m0s\u001b[0m 168ms/step\n"
     ]
    },
    {
     "name": "stderr",
     "output_type": "stream",
     "text": [
      "MAE con parametri {'batch_size': 32, 'epochs': 50, 'lookback': 60, 'units': 100}: 0.016284146850120605\n",
      "Test combinazione parametri: {'batch_size': 32, 'epochs': 50, 'lookback': 90, 'units': 50}\n",
      "Preparazione dati per previsione serie temporale\n",
      "Preparazione dati completata\n",
      "Previsione serie temporale autoregressiva\n"
     ]
    },
    {
     "name": "stdout",
     "output_type": "stream",
     "text": [
      "\u001b[1m1/1\u001b[0m \u001b[32m━━━━━━━━━━━━━━━━━━━━\u001b[0m\u001b[37m\u001b[0m \u001b[1m0s\u001b[0m 170ms/step\n"
     ]
    },
    {
     "name": "stderr",
     "output_type": "stream",
     "text": [
      "MAE con parametri {'batch_size': 32, 'epochs': 50, 'lookback': 90, 'units': 50}: 0.0476456136059646\n",
      "Test combinazione parametri: {'batch_size': 32, 'epochs': 50, 'lookback': 90, 'units': 100}\n",
      "Preparazione dati per previsione serie temporale\n",
      "Preparazione dati completata\n",
      "Previsione serie temporale autoregressiva\n"
     ]
    },
    {
     "name": "stdout",
     "output_type": "stream",
     "text": [
      "\u001b[1m1/1\u001b[0m \u001b[32m━━━━━━━━━━━━━━━━━━━━\u001b[0m\u001b[37m\u001b[0m \u001b[1m0s\u001b[0m 168ms/step\n"
     ]
    },
    {
     "name": "stderr",
     "output_type": "stream",
     "text": [
      "MAE con parametri {'batch_size': 32, 'epochs': 50, 'lookback': 90, 'units': 100}: 0.037565532271873536\n",
      "Best MAE: 0.010347677885275885 con parametri {'batch_size': 16, 'epochs': 50, 'lookback': 30, 'units': 100}\n",
      "Migliori parametri trovati: {'batch_size': 16, 'epochs': 50, 'lookback': 30, 'units': 100}\n"
     ]
    },
    {
     "ename": "KeyError",
     "evalue": "'out_steps'",
     "output_type": "error",
     "traceback": [
      "\u001b[1;31m---------------------------------------------------------------------------\u001b[0m",
      "\u001b[1;31mKeyError\u001b[0m                                  Traceback (most recent call last)",
      "Cell \u001b[1;32mIn[5], line 1\u001b[0m\n\u001b[1;32m----> 1\u001b[0m pred \u001b[38;5;241m=\u001b[39m \u001b[43mTimeSeriesPredictor\u001b[49m\u001b[43m(\u001b[49m\u001b[43mdf\u001b[49m\u001b[43m)\u001b[49m\u001b[38;5;241;43m.\u001b[39;49m\u001b[43mcall\u001b[49m\u001b[43m(\u001b[49m\u001b[43m)\u001b[49m\n",
      "File \u001b[1;32m~\\OneDrive\\Desktop\\Workbench\\stock-project\\src\\model\\lstm_pred.py:41\u001b[0m, in \u001b[0;36mTimeSeriesPredictor.call\u001b[1;34m(self)\u001b[0m\n\u001b[0;32m     39\u001b[0m logging\u001b[38;5;241m.\u001b[39minfo(\u001b[38;5;124m\"\u001b[39m\u001b[38;5;124minfo - start forecast\u001b[39m\u001b[38;5;124m\"\u001b[39m) \n\u001b[0;32m     40\u001b[0m \u001b[38;5;28mself\u001b[39m\u001b[38;5;241m.\u001b[39mprepare_data() \n\u001b[1;32m---> 41\u001b[0m \u001b[38;5;28;43mself\u001b[39;49m\u001b[38;5;241;43m.\u001b[39;49m\u001b[43mtrain_model\u001b[49m\u001b[43m(\u001b[49m\u001b[43mparam_grid\u001b[49m\u001b[38;5;241;43m=\u001b[39;49m\u001b[38;5;28;43mself\u001b[39;49m\u001b[38;5;241;43m.\u001b[39;49m\u001b[43mparam_grid\u001b[49m\u001b[43m)\u001b[49m \n\u001b[0;32m     42\u001b[0m predictions \u001b[38;5;241m=\u001b[39m \u001b[38;5;28mself\u001b[39m\u001b[38;5;241m.\u001b[39mpredict() \n\u001b[0;32m     43\u001b[0m mae \u001b[38;5;241m=\u001b[39m \u001b[38;5;28mself\u001b[39m\u001b[38;5;241m.\u001b[39mevaluate_model() \n",
      "File \u001b[1;32m~\\OneDrive\\Desktop\\Workbench\\stock-project\\src\\model\\lstm_pred.py:101\u001b[0m, in \u001b[0;36mTimeSeriesPredictor.train_model\u001b[1;34m(self, param_grid)\u001b[0m\n\u001b[0;32m     99\u001b[0m \u001b[38;5;66;03m# Aggiorna i parametri del modello con la configurazione ottimale\u001b[39;00m\n\u001b[0;32m    100\u001b[0m \u001b[38;5;28mself\u001b[39m\u001b[38;5;241m.\u001b[39mlookback \u001b[38;5;241m=\u001b[39m best_config[\u001b[38;5;124m'\u001b[39m\u001b[38;5;124mbest_params\u001b[39m\u001b[38;5;124m'\u001b[39m][\u001b[38;5;124m'\u001b[39m\u001b[38;5;124mlookback\u001b[39m\u001b[38;5;124m'\u001b[39m]\n\u001b[1;32m--> 101\u001b[0m \u001b[38;5;28mself\u001b[39m\u001b[38;5;241m.\u001b[39mout_steps \u001b[38;5;241m=\u001b[39m \u001b[43mbest_config\u001b[49m\u001b[43m[\u001b[49m\u001b[38;5;124;43m'\u001b[39;49m\u001b[38;5;124;43mbest_params\u001b[39;49m\u001b[38;5;124;43m'\u001b[39;49m\u001b[43m]\u001b[49m\u001b[43m[\u001b[49m\u001b[38;5;124;43m'\u001b[39;49m\u001b[38;5;124;43mout_steps\u001b[39;49m\u001b[38;5;124;43m'\u001b[39;49m\u001b[43m]\u001b[49m\n\u001b[0;32m    102\u001b[0m \u001b[38;5;28mself\u001b[39m\u001b[38;5;241m.\u001b[39munits \u001b[38;5;241m=\u001b[39m best_config[\u001b[38;5;124m'\u001b[39m\u001b[38;5;124mbest_params\u001b[39m\u001b[38;5;124m'\u001b[39m][\u001b[38;5;124m'\u001b[39m\u001b[38;5;124munits\u001b[39m\u001b[38;5;124m'\u001b[39m]\n\u001b[0;32m    103\u001b[0m epochs \u001b[38;5;241m=\u001b[39m best_config[\u001b[38;5;124m'\u001b[39m\u001b[38;5;124mbest_params\u001b[39m\u001b[38;5;124m'\u001b[39m][\u001b[38;5;124m'\u001b[39m\u001b[38;5;124mepochs\u001b[39m\u001b[38;5;124m'\u001b[39m]\n",
      "\u001b[1;31mKeyError\u001b[0m: 'out_steps'"
     ]
    }
   ],
   "source": [
    "pred = TimeSeriesPredictor(df).call()"
   ]
  },
  {
   "cell_type": "code",
   "execution_count": 5,
   "metadata": {},
   "outputs": [
    {
     "data": {
      "text/plain": [
       "{'predictions': array([228.49893, 229.15457, 229.89162, 230.64127, 231.19713],\n",
       "       dtype=float32),\n",
       " 'mae': np.float64(2.0293457031249886)}"
      ]
     },
     "execution_count": 5,
     "metadata": {},
     "output_type": "execute_result"
    }
   ],
   "source": [
    "pred"
   ]
  },
  {
   "cell_type": "markdown",
   "metadata": {},
   "source": [
    "### previsione prezzo con più features"
   ]
  },
  {
   "cell_type": "code",
   "execution_count": 4,
   "metadata": {},
   "outputs": [
    {
     "name": "stderr",
     "output_type": "stream",
     "text": [
      "Inizio pipeline di previsione\n",
      "c:\\Users\\loren\\OneDrive\\Desktop\\Workbench\\.venv\\lib\\site-packages\\keras\\src\\layers\\rnn\\rnn.py:204: UserWarning: Do not pass an `input_shape`/`input_dim` argument to a layer. When using Sequential models, prefer using an `Input(shape)` object as the first layer in the model instead.\n",
      "  super().__init__(**kwargs)\n",
      "Ricerca degli iperparametri in corso\n",
      "Testando parametri: {'batch_size': 16, 'epochs': 20, 'lookback': 30, 'out_steps': 5, 'units': 50}\n",
      "Inizio addestramento del modello\n"
     ]
    },
    {
     "name": "stdout",
     "output_type": "stream",
     "text": [
      "Epoch 1/20\n",
      "\u001b[1m123/123\u001b[0m \u001b[32m━━━━━━━━━━━━━━━━━━━━\u001b[0m\u001b[37m\u001b[0m \u001b[1m3s\u001b[0m 12ms/step - loss: 0.0208\n",
      "Epoch 2/20\n",
      "\u001b[1m123/123\u001b[0m \u001b[32m━━━━━━━━━━━━━━━━━━━━\u001b[0m\u001b[37m\u001b[0m \u001b[1m1s\u001b[0m 11ms/step - loss: 0.0020\n",
      "Epoch 3/20\n",
      "\u001b[1m123/123\u001b[0m \u001b[32m━━━━━━━━━━━━━━━━━━━━\u001b[0m\u001b[37m\u001b[0m \u001b[1m1s\u001b[0m 11ms/step - loss: 0.0014\n",
      "Epoch 4/20\n",
      "\u001b[1m123/123\u001b[0m \u001b[32m━━━━━━━━━━━━━━━━━━━━\u001b[0m\u001b[37m\u001b[0m \u001b[1m1s\u001b[0m 11ms/step - loss: 0.0013\n",
      "Epoch 5/20\n",
      "\u001b[1m123/123\u001b[0m \u001b[32m━━━━━━━━━━━━━━━━━━━━\u001b[0m\u001b[37m\u001b[0m \u001b[1m1s\u001b[0m 11ms/step - loss: 0.0012\n",
      "Epoch 6/20\n",
      "\u001b[1m123/123\u001b[0m \u001b[32m━━━━━━━━━━━━━━━━━━━━\u001b[0m\u001b[37m\u001b[0m \u001b[1m1s\u001b[0m 11ms/step - loss: 9.3334e-04\n",
      "Epoch 7/20\n",
      "\u001b[1m123/123\u001b[0m \u001b[32m━━━━━━━━━━━━━━━━━━━━\u001b[0m\u001b[37m\u001b[0m \u001b[1m1s\u001b[0m 11ms/step - loss: 0.0013\n",
      "Epoch 8/20\n",
      "\u001b[1m123/123\u001b[0m \u001b[32m━━━━━━━━━━━━━━━━━━━━\u001b[0m\u001b[37m\u001b[0m \u001b[1m1s\u001b[0m 11ms/step - loss: 9.8454e-04\n",
      "Epoch 9/20\n",
      "\u001b[1m123/123\u001b[0m \u001b[32m━━━━━━━━━━━━━━━━━━━━\u001b[0m\u001b[37m\u001b[0m \u001b[1m1s\u001b[0m 11ms/step - loss: 9.3174e-04\n",
      "Epoch 10/20\n",
      "\u001b[1m123/123\u001b[0m \u001b[32m━━━━━━━━━━━━━━━━━━━━\u001b[0m\u001b[37m\u001b[0m \u001b[1m1s\u001b[0m 11ms/step - loss: 8.9493e-04\n",
      "Epoch 11/20\n",
      "\u001b[1m123/123\u001b[0m \u001b[32m━━━━━━━━━━━━━━━━━━━━\u001b[0m\u001b[37m\u001b[0m \u001b[1m1s\u001b[0m 11ms/step - loss: 8.2944e-04\n",
      "Epoch 12/20\n",
      "\u001b[1m123/123\u001b[0m \u001b[32m━━━━━━━━━━━━━━━━━━━━\u001b[0m\u001b[37m\u001b[0m \u001b[1m1s\u001b[0m 11ms/step - loss: 8.5559e-04\n",
      "Epoch 13/20\n",
      "\u001b[1m123/123\u001b[0m \u001b[32m━━━━━━━━━━━━━━━━━━━━\u001b[0m\u001b[37m\u001b[0m \u001b[1m1s\u001b[0m 11ms/step - loss: 9.7821e-04\n",
      "Epoch 14/20\n",
      "\u001b[1m123/123\u001b[0m \u001b[32m━━━━━━━━━━━━━━━━━━━━\u001b[0m\u001b[37m\u001b[0m \u001b[1m1s\u001b[0m 12ms/step - loss: 8.1227e-04\n",
      "Epoch 15/20\n",
      "\u001b[1m123/123\u001b[0m \u001b[32m━━━━━━━━━━━━━━━━━━━━\u001b[0m\u001b[37m\u001b[0m \u001b[1m1s\u001b[0m 11ms/step - loss: 0.0012\n",
      "Epoch 16/20\n",
      "\u001b[1m123/123\u001b[0m \u001b[32m━━━━━━━━━━━━━━━━━━━━\u001b[0m\u001b[37m\u001b[0m \u001b[1m1s\u001b[0m 11ms/step - loss: 8.5643e-04\n",
      "Epoch 17/20\n",
      "\u001b[1m123/123\u001b[0m \u001b[32m━━━━━━━━━━━━━━━━━━━━\u001b[0m\u001b[37m\u001b[0m \u001b[1m1s\u001b[0m 11ms/step - loss: 8.3667e-04\n",
      "Epoch 18/20\n",
      "\u001b[1m123/123\u001b[0m \u001b[32m━━━━━━━━━━━━━━━━━━━━\u001b[0m\u001b[37m\u001b[0m \u001b[1m1s\u001b[0m 11ms/step - loss: 7.1532e-04\n",
      "Epoch 19/20\n",
      "\u001b[1m123/123\u001b[0m \u001b[32m━━━━━━━━━━━━━━━━━━━━\u001b[0m\u001b[37m\u001b[0m \u001b[1m1s\u001b[0m 11ms/step - loss: 6.4574e-04\n",
      "Epoch 20/20\n",
      "\u001b[1m123/123\u001b[0m \u001b[32m━━━━━━━━━━━━━━━━━━━━\u001b[0m\u001b[37m\u001b[0m \u001b[1m1s\u001b[0m 11ms/step - loss: 8.5097e-04\n"
     ]
    },
    {
     "name": "stderr",
     "output_type": "stream",
     "text": [
      "Addestramento completato\n"
     ]
    },
    {
     "name": "stdout",
     "output_type": "stream",
     "text": [
      "\u001b[1m1/1\u001b[0m \u001b[32m━━━━━━━━━━━━━━━━━━━━\u001b[0m\u001b[37m\u001b[0m \u001b[1m0s\u001b[0m 119ms/step\n"
     ]
    },
    {
     "ename": "ValueError",
     "evalue": "Found input variables with inconsistent numbers of samples: [25, 5]",
     "output_type": "error",
     "traceback": [
      "\u001b[1;31m---------------------------------------------------------------------------\u001b[0m",
      "\u001b[1;31mValueError\u001b[0m                                Traceback (most recent call last)",
      "Cell \u001b[1;32mIn[4], line 6\u001b[0m\n\u001b[0;32m      4\u001b[0m \u001b[38;5;66;03m# Inizializza il modello\u001b[39;00m\n\u001b[0;32m      5\u001b[0m predictor \u001b[38;5;241m=\u001b[39m EnhancedTimeSeriesPredictor(df, feature_columns\u001b[38;5;241m=\u001b[39mfeatures)\n\u001b[1;32m----> 6\u001b[0m results \u001b[38;5;241m=\u001b[39m \u001b[43mpredictor\u001b[49m\u001b[38;5;241;43m.\u001b[39;49m\u001b[43mcall\u001b[49m\u001b[43m(\u001b[49m\u001b[43m)\u001b[49m\n",
      "File \u001b[1;32m~\\OneDrive\\Desktop\\Workbench\\stock-project\\src\\model\\enhanced_lstm_pred.py:156\u001b[0m, in \u001b[0;36mEnhancedTimeSeriesPredictor.call\u001b[1;34m(self)\u001b[0m\n\u001b[0;32m    154\u001b[0m \u001b[38;5;28;01mif\u001b[39;00m \u001b[38;5;28mself\u001b[39m\u001b[38;5;241m.\u001b[39mparam_grid:\n\u001b[0;32m    155\u001b[0m     logging\u001b[38;5;241m.\u001b[39minfo(\u001b[38;5;124m\"\u001b[39m\u001b[38;5;124mRicerca degli iperparametri in corso\u001b[39m\u001b[38;5;124m\"\u001b[39m)\n\u001b[1;32m--> 156\u001b[0m     best_params \u001b[38;5;241m=\u001b[39m \u001b[38;5;28;43mself\u001b[39;49m\u001b[38;5;241;43m.\u001b[39;49m\u001b[43mgrid_search\u001b[49m\u001b[43m(\u001b[49m\u001b[38;5;28;43mself\u001b[39;49m\u001b[38;5;241;43m.\u001b[39;49m\u001b[43mparam_grid\u001b[49m\u001b[43m)\u001b[49m\n\u001b[0;32m    157\u001b[0m     logging\u001b[38;5;241m.\u001b[39minfo(\u001b[38;5;124mf\u001b[39m\u001b[38;5;124m\"\u001b[39m\u001b[38;5;124mMigliori parametri trovati: \u001b[39m\u001b[38;5;132;01m{\u001b[39;00mbest_params\u001b[38;5;132;01m}\u001b[39;00m\u001b[38;5;124m\"\u001b[39m)\n\u001b[0;32m    158\u001b[0m \u001b[38;5;28;01melse\u001b[39;00m:\n",
      "File \u001b[1;32m~\\OneDrive\\Desktop\\Workbench\\stock-project\\src\\model\\enhanced_lstm_pred.py:182\u001b[0m, in \u001b[0;36mEnhancedTimeSeriesPredictor.grid_search\u001b[1;34m(self, param_grid)\u001b[0m\n\u001b[0;32m    180\u001b[0m \u001b[38;5;28mself\u001b[39m\u001b[38;5;241m.\u001b[39mbuild_model()\n\u001b[0;32m    181\u001b[0m \u001b[38;5;28mself\u001b[39m\u001b[38;5;241m.\u001b[39mtrain_model(epochs\u001b[38;5;241m=\u001b[39mparams[\u001b[38;5;124m'\u001b[39m\u001b[38;5;124mepochs\u001b[39m\u001b[38;5;124m'\u001b[39m], batch_size\u001b[38;5;241m=\u001b[39mparams[\u001b[38;5;124m'\u001b[39m\u001b[38;5;124mbatch_size\u001b[39m\u001b[38;5;124m'\u001b[39m])\n\u001b[1;32m--> 182\u001b[0m mae \u001b[38;5;241m=\u001b[39m \u001b[38;5;28;43mself\u001b[39;49m\u001b[38;5;241;43m.\u001b[39;49m\u001b[43mevaluate_model\u001b[49m\u001b[43m(\u001b[49m\u001b[43m)\u001b[49m\n\u001b[0;32m    183\u001b[0m \u001b[38;5;28;01mif\u001b[39;00m mae \u001b[38;5;241m<\u001b[39m best_mae:\n\u001b[0;32m    184\u001b[0m     best_mae \u001b[38;5;241m=\u001b[39m mae\n",
      "File \u001b[1;32m~\\OneDrive\\Desktop\\Workbench\\stock-project\\src\\model\\enhanced_lstm_pred.py:131\u001b[0m, in \u001b[0;36mEnhancedTimeSeriesPredictor.evaluate_model\u001b[1;34m(self)\u001b[0m\n\u001b[0;32m    128\u001b[0m y_test_denorm \u001b[38;5;241m=\u001b[39m y_test_denorm[\u001b[38;5;241m-\u001b[39m\u001b[38;5;28mself\u001b[39m\u001b[38;5;241m.\u001b[39mout_steps:]\u001b[38;5;241m.\u001b[39mflatten()  \u001b[38;5;66;03m# Appiattisce\u001b[39;00m\n\u001b[0;32m    129\u001b[0m predictions \u001b[38;5;241m=\u001b[39m predictions[:\u001b[38;5;28mself\u001b[39m\u001b[38;5;241m.\u001b[39mout_steps]\u001b[38;5;241m.\u001b[39mflatten()  \u001b[38;5;66;03m# Assicura compatibilità\u001b[39;00m\n\u001b[1;32m--> 131\u001b[0m mae \u001b[38;5;241m=\u001b[39m \u001b[43mmean_absolute_error\u001b[49m\u001b[43m(\u001b[49m\u001b[43my_test_denorm\u001b[49m\u001b[43m,\u001b[49m\u001b[43m \u001b[49m\u001b[43mpredictions\u001b[49m\u001b[43m)\u001b[49m\n\u001b[0;32m    132\u001b[0m logging\u001b[38;5;241m.\u001b[39minfo(\u001b[38;5;124mf\u001b[39m\u001b[38;5;124m\"\u001b[39m\u001b[38;5;124mMAE calcolato: \u001b[39m\u001b[38;5;132;01m{\u001b[39;00mmae\u001b[38;5;132;01m}\u001b[39;00m\u001b[38;5;124m\"\u001b[39m)\n\u001b[0;32m    133\u001b[0m \u001b[38;5;28;01mreturn\u001b[39;00m mae\n",
      "File \u001b[1;32mc:\\Users\\loren\\OneDrive\\Desktop\\Workbench\\.venv\\lib\\site-packages\\sklearn\\utils\\_param_validation.py:213\u001b[0m, in \u001b[0;36mvalidate_params.<locals>.decorator.<locals>.wrapper\u001b[1;34m(*args, **kwargs)\u001b[0m\n\u001b[0;32m    207\u001b[0m \u001b[38;5;28;01mtry\u001b[39;00m:\n\u001b[0;32m    208\u001b[0m     \u001b[38;5;28;01mwith\u001b[39;00m config_context(\n\u001b[0;32m    209\u001b[0m         skip_parameter_validation\u001b[38;5;241m=\u001b[39m(\n\u001b[0;32m    210\u001b[0m             prefer_skip_nested_validation \u001b[38;5;129;01mor\u001b[39;00m global_skip_validation\n\u001b[0;32m    211\u001b[0m         )\n\u001b[0;32m    212\u001b[0m     ):\n\u001b[1;32m--> 213\u001b[0m         \u001b[38;5;28;01mreturn\u001b[39;00m func(\u001b[38;5;241m*\u001b[39margs, \u001b[38;5;241m*\u001b[39m\u001b[38;5;241m*\u001b[39mkwargs)\n\u001b[0;32m    214\u001b[0m \u001b[38;5;28;01mexcept\u001b[39;00m InvalidParameterError \u001b[38;5;28;01mas\u001b[39;00m e:\n\u001b[0;32m    215\u001b[0m     \u001b[38;5;66;03m# When the function is just a wrapper around an estimator, we allow\u001b[39;00m\n\u001b[0;32m    216\u001b[0m     \u001b[38;5;66;03m# the function to delegate validation to the estimator, but we replace\u001b[39;00m\n\u001b[0;32m    217\u001b[0m     \u001b[38;5;66;03m# the name of the estimator by the name of the function in the error\u001b[39;00m\n\u001b[0;32m    218\u001b[0m     \u001b[38;5;66;03m# message to avoid confusion.\u001b[39;00m\n\u001b[0;32m    219\u001b[0m     msg \u001b[38;5;241m=\u001b[39m re\u001b[38;5;241m.\u001b[39msub(\n\u001b[0;32m    220\u001b[0m         \u001b[38;5;124mr\u001b[39m\u001b[38;5;124m\"\u001b[39m\u001b[38;5;124mparameter of \u001b[39m\u001b[38;5;124m\\\u001b[39m\u001b[38;5;124mw+ must be\u001b[39m\u001b[38;5;124m\"\u001b[39m,\n\u001b[0;32m    221\u001b[0m         \u001b[38;5;124mf\u001b[39m\u001b[38;5;124m\"\u001b[39m\u001b[38;5;124mparameter of \u001b[39m\u001b[38;5;132;01m{\u001b[39;00mfunc\u001b[38;5;241m.\u001b[39m\u001b[38;5;18m__qualname__\u001b[39m\u001b[38;5;132;01m}\u001b[39;00m\u001b[38;5;124m must be\u001b[39m\u001b[38;5;124m\"\u001b[39m,\n\u001b[0;32m    222\u001b[0m         \u001b[38;5;28mstr\u001b[39m(e),\n\u001b[0;32m    223\u001b[0m     )\n",
      "File \u001b[1;32mc:\\Users\\loren\\OneDrive\\Desktop\\Workbench\\.venv\\lib\\site-packages\\sklearn\\metrics\\_regression.py:216\u001b[0m, in \u001b[0;36mmean_absolute_error\u001b[1;34m(y_true, y_pred, sample_weight, multioutput)\u001b[0m\n\u001b[0;32m    152\u001b[0m \u001b[38;5;129m@validate_params\u001b[39m(\n\u001b[0;32m    153\u001b[0m     {\n\u001b[0;32m    154\u001b[0m         \u001b[38;5;124m\"\u001b[39m\u001b[38;5;124my_true\u001b[39m\u001b[38;5;124m\"\u001b[39m: [\u001b[38;5;124m\"\u001b[39m\u001b[38;5;124marray-like\u001b[39m\u001b[38;5;124m\"\u001b[39m],\n\u001b[1;32m   (...)\u001b[0m\n\u001b[0;32m    162\u001b[0m     y_true, y_pred, \u001b[38;5;241m*\u001b[39m, sample_weight\u001b[38;5;241m=\u001b[39m\u001b[38;5;28;01mNone\u001b[39;00m, multioutput\u001b[38;5;241m=\u001b[39m\u001b[38;5;124m\"\u001b[39m\u001b[38;5;124muniform_average\u001b[39m\u001b[38;5;124m\"\u001b[39m\n\u001b[0;32m    163\u001b[0m ):\n\u001b[0;32m    164\u001b[0m \u001b[38;5;250m    \u001b[39m\u001b[38;5;124;03m\"\"\"Mean absolute error regression loss.\u001b[39;00m\n\u001b[0;32m    165\u001b[0m \n\u001b[0;32m    166\u001b[0m \u001b[38;5;124;03m    Read more in the :ref:`User Guide <mean_absolute_error>`.\u001b[39;00m\n\u001b[1;32m   (...)\u001b[0m\n\u001b[0;32m    214\u001b[0m \u001b[38;5;124;03m    np.float64(0.85...)\u001b[39;00m\n\u001b[0;32m    215\u001b[0m \u001b[38;5;124;03m    \"\"\"\u001b[39;00m\n\u001b[1;32m--> 216\u001b[0m     y_type, y_true, y_pred, multioutput \u001b[38;5;241m=\u001b[39m \u001b[43m_check_reg_targets\u001b[49m\u001b[43m(\u001b[49m\n\u001b[0;32m    217\u001b[0m \u001b[43m        \u001b[49m\u001b[43my_true\u001b[49m\u001b[43m,\u001b[49m\u001b[43m \u001b[49m\u001b[43my_pred\u001b[49m\u001b[43m,\u001b[49m\u001b[43m \u001b[49m\u001b[43mmultioutput\u001b[49m\n\u001b[0;32m    218\u001b[0m \u001b[43m    \u001b[49m\u001b[43m)\u001b[49m\n\u001b[0;32m    219\u001b[0m     check_consistent_length(y_true, y_pred, sample_weight)\n\u001b[0;32m    220\u001b[0m     output_errors \u001b[38;5;241m=\u001b[39m np\u001b[38;5;241m.\u001b[39maverage(np\u001b[38;5;241m.\u001b[39mabs(y_pred \u001b[38;5;241m-\u001b[39m y_true), weights\u001b[38;5;241m=\u001b[39msample_weight, axis\u001b[38;5;241m=\u001b[39m\u001b[38;5;241m0\u001b[39m)\n",
      "File \u001b[1;32mc:\\Users\\loren\\OneDrive\\Desktop\\Workbench\\.venv\\lib\\site-packages\\sklearn\\metrics\\_regression.py:111\u001b[0m, in \u001b[0;36m_check_reg_targets\u001b[1;34m(y_true, y_pred, multioutput, dtype, xp)\u001b[0m\n\u001b[0;32m     76\u001b[0m \u001b[38;5;250m\u001b[39m\u001b[38;5;124;03m\"\"\"Check that y_true and y_pred belong to the same regression task.\u001b[39;00m\n\u001b[0;32m     77\u001b[0m \n\u001b[0;32m     78\u001b[0m \u001b[38;5;124;03mParameters\u001b[39;00m\n\u001b[1;32m   (...)\u001b[0m\n\u001b[0;32m    107\u001b[0m \u001b[38;5;124;03m    correct keyword.\u001b[39;00m\n\u001b[0;32m    108\u001b[0m \u001b[38;5;124;03m\"\"\"\u001b[39;00m\n\u001b[0;32m    109\u001b[0m xp, _ \u001b[38;5;241m=\u001b[39m get_namespace(y_true, y_pred, multioutput, xp\u001b[38;5;241m=\u001b[39mxp)\n\u001b[1;32m--> 111\u001b[0m \u001b[43mcheck_consistent_length\u001b[49m\u001b[43m(\u001b[49m\u001b[43my_true\u001b[49m\u001b[43m,\u001b[49m\u001b[43m \u001b[49m\u001b[43my_pred\u001b[49m\u001b[43m)\u001b[49m\n\u001b[0;32m    112\u001b[0m y_true \u001b[38;5;241m=\u001b[39m check_array(y_true, ensure_2d\u001b[38;5;241m=\u001b[39m\u001b[38;5;28;01mFalse\u001b[39;00m, dtype\u001b[38;5;241m=\u001b[39mdtype)\n\u001b[0;32m    113\u001b[0m y_pred \u001b[38;5;241m=\u001b[39m check_array(y_pred, ensure_2d\u001b[38;5;241m=\u001b[39m\u001b[38;5;28;01mFalse\u001b[39;00m, dtype\u001b[38;5;241m=\u001b[39mdtype)\n",
      "File \u001b[1;32mc:\\Users\\loren\\OneDrive\\Desktop\\Workbench\\.venv\\lib\\site-packages\\sklearn\\utils\\validation.py:457\u001b[0m, in \u001b[0;36mcheck_consistent_length\u001b[1;34m(*arrays)\u001b[0m\n\u001b[0;32m    455\u001b[0m uniques \u001b[38;5;241m=\u001b[39m np\u001b[38;5;241m.\u001b[39munique(lengths)\n\u001b[0;32m    456\u001b[0m \u001b[38;5;28;01mif\u001b[39;00m \u001b[38;5;28mlen\u001b[39m(uniques) \u001b[38;5;241m>\u001b[39m \u001b[38;5;241m1\u001b[39m:\n\u001b[1;32m--> 457\u001b[0m     \u001b[38;5;28;01mraise\u001b[39;00m \u001b[38;5;167;01mValueError\u001b[39;00m(\n\u001b[0;32m    458\u001b[0m         \u001b[38;5;124m\"\u001b[39m\u001b[38;5;124mFound input variables with inconsistent numbers of samples: \u001b[39m\u001b[38;5;132;01m%r\u001b[39;00m\u001b[38;5;124m\"\u001b[39m\n\u001b[0;32m    459\u001b[0m         \u001b[38;5;241m%\u001b[39m [\u001b[38;5;28mint\u001b[39m(l) \u001b[38;5;28;01mfor\u001b[39;00m l \u001b[38;5;129;01min\u001b[39;00m lengths]\n\u001b[0;32m    460\u001b[0m     )\n",
      "\u001b[1;31mValueError\u001b[0m: Found input variables with inconsistent numbers of samples: [25, 5]"
     ]
    }
   ],
   "source": [
    "# Feature da utilizzare\n",
    "features = ['Adj Close', 'RSI', 'MACD', 'MACD_hist', 'EWM_12', 'EWM_26']\n",
    "\n",
    "# Inizializza il modello\n",
    "predictor = EnhancedTimeSeriesPredictor(df, feature_columns=features)\n",
    "results = predictor.call()"
   ]
  },
  {
   "cell_type": "code",
   "execution_count": null,
   "metadata": {},
   "outputs": [
    {
     "ename": "NameError",
     "evalue": "name 'results' is not defined",
     "output_type": "error",
     "traceback": [
      "\u001b[1;31m---------------------------------------------------------------------------\u001b[0m",
      "\u001b[1;31mNameError\u001b[0m                                 Traceback (most recent call last)",
      "Cell \u001b[1;32mIn[5], line 1\u001b[0m\n\u001b[1;32m----> 1\u001b[0m \u001b[43mresults\u001b[49m\n",
      "\u001b[1;31mNameError\u001b[0m: name 'results' is not defined"
     ]
    }
   ],
   "source": [
    "results"
   ]
  },
  {
   "cell_type": "markdown",
   "metadata": {},
   "source": [
    "### Prossimi step:\n",
    "#### - individuazione titolo sottovalutato o sopravvalutato\n",
    "#### - previsione con piu features (?)\n",
    "#### - sentiment analysis\n",
    "#### - tutta la parte di gestione e ottimizazzione di portafoglio"
   ]
  }
 ],
 "metadata": {
  "kernelspec": {
   "display_name": ".venv",
   "language": "python",
   "name": "python3"
  },
  "language_info": {
   "codemirror_mode": {
    "name": "ipython",
    "version": 3
   },
   "file_extension": ".py",
   "mimetype": "text/x-python",
   "name": "python",
   "nbconvert_exporter": "python",
   "pygments_lexer": "ipython3",
   "version": "3.9.12"
  }
 },
 "nbformat": 4,
 "nbformat_minor": 2
}
