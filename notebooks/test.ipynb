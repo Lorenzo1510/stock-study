{
 "cells": [
  {
   "cell_type": "code",
   "execution_count": 1,
   "metadata": {},
   "outputs": [],
   "source": [
    "import sys\n",
    "sys.path.append(r'C:\\Users\\loren\\OneDrive\\Desktop\\Workbench\\stock-project')\n",
    "from src.extract.extract import DataExtract\n",
    "from src.model.lstm_pred import TimeSeriesPredictor"
   ]
  },
  {
   "cell_type": "markdown",
   "metadata": {},
   "source": [
    "### estrazione dei dati"
   ]
  },
  {
   "cell_type": "code",
   "execution_count": 2,
   "metadata": {},
   "outputs": [
    {
     "name": "stderr",
     "output_type": "stream",
     "text": [
      "[*********************100%***********************]  1 of 1 completed\n",
      "info - reading IBM\n",
      "DONE! - reading IBM\n"
     ]
    }
   ],
   "source": [
    "df = DataExtract('IBM').read()"
   ]
  },
  {
   "cell_type": "markdown",
   "metadata": {},
   "source": [
    "### previsione del prezzo di settimana prossima"
   ]
  },
  {
   "cell_type": "code",
   "execution_count": 3,
   "metadata": {},
   "outputs": [
    {
     "name": "stderr",
     "output_type": "stream",
     "text": [
      "Esecuzione completa del processo di previsione serie temporale\n",
      "info - Preparazione dati per previsione serie temporale\n",
      "len di X_train: 1959, len di X_test: 490, len di y_test: 490, len di y_train: 1959\n",
      "Shape di X_train: (1959, 60, 1)\n",
      "Shape di X_test: (490, 60, 1)\n",
      "Preparazione dati completata\n",
      "Addestramento modello autoregressivo LSTM\n",
      "Previsione serie temporale autoregressiva\n"
     ]
    },
    {
     "name": "stdout",
     "output_type": "stream",
     "text": [
      "\u001b[1m1/1\u001b[0m \u001b[32m━━━━━━━━━━━━━━━━━━━━\u001b[0m\u001b[37m\u001b[0m \u001b[1m0s\u001b[0m 103ms/step\n"
     ]
    },
    {
     "name": "stderr",
     "output_type": "stream",
     "text": [
      "Previsione serie temporale autoregressiva\n"
     ]
    },
    {
     "name": "stdout",
     "output_type": "stream",
     "text": [
      "\u001b[1m1/1\u001b[0m \u001b[32m━━━━━━━━━━━━━━━━━━━━\u001b[0m\u001b[37m\u001b[0m \u001b[1m0s\u001b[0m 10ms/step\n"
     ]
    },
    {
     "name": "stderr",
     "output_type": "stream",
     "text": [
      "Processo completato\n"
     ]
    }
   ],
   "source": [
    "pred = TimeSeriesPredictor(df).call()"
   ]
  },
  {
   "cell_type": "code",
   "execution_count": 4,
   "metadata": {},
   "outputs": [
    {
     "data": {
      "text/plain": [
       "{'predictions': array([211.49197, 212.10646, 213.5238 , 215.1042 , 216.61337],\n",
       "       dtype=float32),\n",
       " 'mae': np.float64(4.016610717773437)}"
      ]
     },
     "execution_count": 4,
     "metadata": {},
     "output_type": "execute_result"
    }
   ],
   "source": [
    "pred"
   ]
  },
  {
   "cell_type": "code",
   "execution_count": 5,
   "metadata": {},
   "outputs": [
    {
     "name": "stdout",
     "output_type": "stream",
     "text": [
      "[211.49197 212.10646 213.5238  215.1042  216.61337]\n"
     ]
    }
   ],
   "source": [
    "# Supponendo che 'predictions' sia il tuo array di previsioni\n",
    "predictions = pred['predictions']\n",
    "\n",
    "# Converti l'array in un array monodimensionale\n",
    "predictions_monodimensionale = predictions.flatten()\n",
    "\n",
    "print(predictions_monodimensionale)\n"
   ]
  },
  {
   "cell_type": "code",
   "execution_count": 6,
   "metadata": {},
   "outputs": [
    {
     "data": {
      "text/plain": [
       "5"
      ]
     },
     "execution_count": 6,
     "metadata": {},
     "output_type": "execute_result"
    }
   ],
   "source": [
    "len(predictions_monodimensionale)"
   ]
  },
  {
   "cell_type": "code",
   "execution_count": null,
   "metadata": {},
   "outputs": [],
   "source": []
  }
 ],
 "metadata": {
  "kernelspec": {
   "display_name": ".venv",
   "language": "python",
   "name": "python3"
  },
  "language_info": {
   "codemirror_mode": {
    "name": "ipython",
    "version": 3
   },
   "file_extension": ".py",
   "mimetype": "text/x-python",
   "name": "python",
   "nbconvert_exporter": "python",
   "pygments_lexer": "ipython3",
   "version": "3.9.12"
  }
 },
 "nbformat": 4,
 "nbformat_minor": 2
}
