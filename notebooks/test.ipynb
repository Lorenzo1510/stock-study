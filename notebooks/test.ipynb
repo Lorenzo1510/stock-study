{
 "cells": [
  {
   "cell_type": "code",
   "execution_count": 1,
   "metadata": {},
   "outputs": [],
   "source": [
    "import sys\n",
    "sys.path.append(r'C:\\Users\\loren\\OneDrive\\Desktop\\Workbench\\stock-project')\n",
    "from src.extract.extract import DataExtract\n",
    "from src.model.lstm_pred import TimeSeriesPredictor"
   ]
  },
  {
   "cell_type": "markdown",
   "metadata": {},
   "source": [
    "### estrazione dei dati"
   ]
  },
  {
   "cell_type": "code",
   "execution_count": 2,
   "metadata": {},
   "outputs": [
    {
     "name": "stderr",
     "output_type": "stream",
     "text": [
      "[*********************100%***********************]  1 of 1 completed\n",
      "info - reading IBM\n",
      "DONE! - reading IBM\n"
     ]
    }
   ],
   "source": [
    "df = DataExtract('IBM').read()"
   ]
  },
  {
   "cell_type": "code",
   "execution_count": 5,
   "metadata": {},
   "outputs": [
    {
     "data": {
      "text/html": [
       "<div>\n",
       "<style scoped>\n",
       "    .dataframe tbody tr th:only-of-type {\n",
       "        vertical-align: middle;\n",
       "    }\n",
       "\n",
       "    .dataframe tbody tr th {\n",
       "        vertical-align: top;\n",
       "    }\n",
       "\n",
       "    .dataframe thead tr th {\n",
       "        text-align: left;\n",
       "    }\n",
       "\n",
       "    .dataframe thead tr:last-of-type th {\n",
       "        text-align: right;\n",
       "    }\n",
       "</style>\n",
       "<table border=\"1\" class=\"dataframe\">\n",
       "  <thead>\n",
       "    <tr>\n",
       "      <th>Price</th>\n",
       "      <th>Adj Close</th>\n",
       "      <th>Close</th>\n",
       "      <th>High</th>\n",
       "      <th>Low</th>\n",
       "      <th>Open</th>\n",
       "      <th>Volume</th>\n",
       "      <th>ADJ_NORMALIZE</th>\n",
       "      <th>EWM_12</th>\n",
       "      <th>EWM_26</th>\n",
       "      <th>RSI</th>\n",
       "      <th>MACD</th>\n",
       "      <th>MACD_signal</th>\n",
       "      <th>MACD_hist</th>\n",
       "    </tr>\n",
       "    <tr>\n",
       "      <th>Ticker</th>\n",
       "      <th>IBM</th>\n",
       "      <th>IBM</th>\n",
       "      <th>IBM</th>\n",
       "      <th>IBM</th>\n",
       "      <th>IBM</th>\n",
       "      <th>IBM</th>\n",
       "      <th></th>\n",
       "      <th></th>\n",
       "      <th></th>\n",
       "      <th></th>\n",
       "      <th></th>\n",
       "      <th></th>\n",
       "      <th></th>\n",
       "    </tr>\n",
       "    <tr>\n",
       "      <th>Date</th>\n",
       "      <th></th>\n",
       "      <th></th>\n",
       "      <th></th>\n",
       "      <th></th>\n",
       "      <th></th>\n",
       "      <th></th>\n",
       "      <th></th>\n",
       "      <th></th>\n",
       "      <th></th>\n",
       "      <th></th>\n",
       "      <th></th>\n",
       "      <th></th>\n",
       "      <th></th>\n",
       "    </tr>\n",
       "  </thead>\n",
       "  <tbody>\n",
       "    <tr>\n",
       "      <th>2024-11-21</th>\n",
       "      <td>222.399994</td>\n",
       "      <td>222.399994</td>\n",
       "      <td>222.630005</td>\n",
       "      <td>215.270004</td>\n",
       "      <td>215.809998</td>\n",
       "      <td>5236400</td>\n",
       "      <td>0.931495</td>\n",
       "      <td>212.512436</td>\n",
       "      <td>213.484282</td>\n",
       "      <td>62.719672</td>\n",
       "      <td>-0.971846</td>\n",
       "      <td>-2.166772</td>\n",
       "      <td>1.194925</td>\n",
       "    </tr>\n",
       "    <tr>\n",
       "      <th>2024-11-22</th>\n",
       "      <td>222.970001</td>\n",
       "      <td>222.970001</td>\n",
       "      <td>227.199997</td>\n",
       "      <td>220.889999</td>\n",
       "      <td>223.350006</td>\n",
       "      <td>5320700</td>\n",
       "      <td>0.935038</td>\n",
       "      <td>214.121292</td>\n",
       "      <td>214.186928</td>\n",
       "      <td>63.319390</td>\n",
       "      <td>-0.065636</td>\n",
       "      <td>-1.746544</td>\n",
       "      <td>1.680909</td>\n",
       "    </tr>\n",
       "    <tr>\n",
       "      <th>2024-11-25</th>\n",
       "      <td>226.130005</td>\n",
       "      <td>226.130005</td>\n",
       "      <td>226.419998</td>\n",
       "      <td>222.649994</td>\n",
       "      <td>223.350006</td>\n",
       "      <td>7189300</td>\n",
       "      <td>0.954682</td>\n",
       "      <td>215.968786</td>\n",
       "      <td>215.071600</td>\n",
       "      <td>66.533558</td>\n",
       "      <td>0.897186</td>\n",
       "      <td>-1.217798</td>\n",
       "      <td>2.114984</td>\n",
       "    </tr>\n",
       "    <tr>\n",
       "      <th>2024-11-26</th>\n",
       "      <td>228.830002</td>\n",
       "      <td>228.830002</td>\n",
       "      <td>228.979996</td>\n",
       "      <td>225.509995</td>\n",
       "      <td>226.729996</td>\n",
       "      <td>4449500</td>\n",
       "      <td>0.971465</td>\n",
       "      <td>217.947435</td>\n",
       "      <td>216.090741</td>\n",
       "      <td>69.030597</td>\n",
       "      <td>1.856694</td>\n",
       "      <td>-0.602900</td>\n",
       "      <td>2.459594</td>\n",
       "    </tr>\n",
       "    <tr>\n",
       "      <th>2024-11-27</th>\n",
       "      <td>226.919998</td>\n",
       "      <td>226.919998</td>\n",
       "      <td>229.190002</td>\n",
       "      <td>224.270004</td>\n",
       "      <td>228.830002</td>\n",
       "      <td>2995100</td>\n",
       "      <td>0.959592</td>\n",
       "      <td>219.327829</td>\n",
       "      <td>216.892908</td>\n",
       "      <td>65.317786</td>\n",
       "      <td>2.434921</td>\n",
       "      <td>0.004664</td>\n",
       "      <td>2.430257</td>\n",
       "    </tr>\n",
       "  </tbody>\n",
       "</table>\n",
       "</div>"
      ],
      "text/plain": [
       "Price        Adj Close       Close        High         Low        Open  \\\n",
       "Ticker             IBM         IBM         IBM         IBM         IBM   \n",
       "Date                                                                     \n",
       "2024-11-21  222.399994  222.399994  222.630005  215.270004  215.809998   \n",
       "2024-11-22  222.970001  222.970001  227.199997  220.889999  223.350006   \n",
       "2024-11-25  226.130005  226.130005  226.419998  222.649994  223.350006   \n",
       "2024-11-26  228.830002  228.830002  228.979996  225.509995  226.729996   \n",
       "2024-11-27  226.919998  226.919998  229.190002  224.270004  228.830002   \n",
       "\n",
       "Price        Volume ADJ_NORMALIZE      EWM_12      EWM_26        RSI  \\\n",
       "Ticker          IBM                                                    \n",
       "Date                                                                   \n",
       "2024-11-21  5236400      0.931495  212.512436  213.484282  62.719672   \n",
       "2024-11-22  5320700      0.935038  214.121292  214.186928  63.319390   \n",
       "2024-11-25  7189300      0.954682  215.968786  215.071600  66.533558   \n",
       "2024-11-26  4449500      0.971465  217.947435  216.090741  69.030597   \n",
       "2024-11-27  2995100      0.959592  219.327829  216.892908  65.317786   \n",
       "\n",
       "Price           MACD MACD_signal MACD_hist  \n",
       "Ticker                                      \n",
       "Date                                        \n",
       "2024-11-21 -0.971846   -2.166772  1.194925  \n",
       "2024-11-22 -0.065636   -1.746544  1.680909  \n",
       "2024-11-25  0.897186   -1.217798  2.114984  \n",
       "2024-11-26  1.856694   -0.602900  2.459594  \n",
       "2024-11-27  2.434921    0.004664  2.430257  "
      ]
     },
     "execution_count": 5,
     "metadata": {},
     "output_type": "execute_result"
    }
   ],
   "source": [
    "df.tail()"
   ]
  },
  {
   "cell_type": "markdown",
   "metadata": {},
   "source": [
    "### previsione del prezzo di settimana prossima"
   ]
  },
  {
   "cell_type": "code",
   "execution_count": 6,
   "metadata": {},
   "outputs": [
    {
     "name": "stderr",
     "output_type": "stream",
     "text": [
      "info - start forecast\n",
      "Preparazione dati per previsione serie temporale\n",
      "Preparazione dati completata\n",
      "Addestramento modello autoregressivo LSTM\n",
      "Previsione serie temporale autoregressiva\n"
     ]
    },
    {
     "name": "stdout",
     "output_type": "stream",
     "text": [
      "\u001b[1m1/1\u001b[0m \u001b[32m━━━━━━━━━━━━━━━━━━━━\u001b[0m\u001b[37m\u001b[0m \u001b[1m0s\u001b[0m 108ms/step\n"
     ]
    },
    {
     "name": "stderr",
     "output_type": "stream",
     "text": [
      "Previsione serie temporale autoregressiva\n"
     ]
    },
    {
     "name": "stdout",
     "output_type": "stream",
     "text": [
      "\u001b[1m1/1\u001b[0m \u001b[32m━━━━━━━━━━━━━━━━━━━━\u001b[0m\u001b[37m\u001b[0m \u001b[1m0s\u001b[0m 14ms/step\n"
     ]
    },
    {
     "name": "stderr",
     "output_type": "stream",
     "text": [
      "DONE! - forecast successfully\n"
     ]
    }
   ],
   "source": [
    "pred = TimeSeriesPredictor(df).call()"
   ]
  },
  {
   "cell_type": "code",
   "execution_count": 7,
   "metadata": {},
   "outputs": [
    {
     "data": {
      "text/plain": [
       "{'predictions': array([209.06897, 210.4341 , 211.21805, 211.78754, 212.31255],\n",
       "       dtype=float32),\n",
       " 'mae': np.float64(12.021762084960937)}"
      ]
     },
     "execution_count": 7,
     "metadata": {},
     "output_type": "execute_result"
    }
   ],
   "source": [
    "pred"
   ]
  },
  {
   "cell_type": "markdown",
   "metadata": {},
   "source": [
    "### Prossimi step:\n",
    "#### - individuazione titolo sottovalutato o sopravvalutato\n",
    "#### - previsione con piu features (?)\n",
    "#### - sentiment analysis\n",
    "#### - tutta la parte di gestione e ottimizazzione di portafoglio"
   ]
  }
 ],
 "metadata": {
  "kernelspec": {
   "display_name": ".venv",
   "language": "python",
   "name": "python3"
  },
  "language_info": {
   "codemirror_mode": {
    "name": "ipython",
    "version": 3
   },
   "file_extension": ".py",
   "mimetype": "text/x-python",
   "name": "python",
   "nbconvert_exporter": "python",
   "pygments_lexer": "ipython3",
   "version": "3.9.12"
  }
 },
 "nbformat": 4,
 "nbformat_minor": 2
}
