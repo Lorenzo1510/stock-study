{
 "cells": [
  {
   "cell_type": "code",
   "execution_count": 21,
   "metadata": {},
   "outputs": [
    {
     "name": "stdout",
     "output_type": "stream",
     "text": [
      "The autoreload extension is already loaded. To reload it, use:\n",
      "  %reload_ext autoreload\n"
     ]
    }
   ],
   "source": [
    "%load_ext autoreload\n",
    "%autoreload 2\n",
    "\n",
    "import sys\n",
    "sys.path.append(r'C:\\Users\\loren\\OneDrive\\Desktop\\Workbench\\stock-project')\n",
    "from src.extract.extract import DataExtract\n",
    "from src.model.lstm_pred import TimeSeriesPredictor\n",
    "from src.model.lstm_multi_features import MultiFeatureTimeSeriesPredictor\n"
   ]
  },
  {
   "cell_type": "markdown",
   "metadata": {},
   "source": [
    "### estrazione dei dati"
   ]
  },
  {
   "cell_type": "code",
   "execution_count": 2,
   "metadata": {},
   "outputs": [
    {
     "name": "stderr",
     "output_type": "stream",
     "text": [
      "[*********************100%***********************]  1 of 1 completed\n",
      "info - reading IBM\n",
      "DONE! - reading IBM\n"
     ]
    }
   ],
   "source": [
    "df = DataExtract('IBM').read()"
   ]
  },
  {
   "cell_type": "code",
   "execution_count": 3,
   "metadata": {},
   "outputs": [
    {
     "data": {
      "text/html": [
       "<div>\n",
       "<style scoped>\n",
       "    .dataframe tbody tr th:only-of-type {\n",
       "        vertical-align: middle;\n",
       "    }\n",
       "\n",
       "    .dataframe tbody tr th {\n",
       "        vertical-align: top;\n",
       "    }\n",
       "\n",
       "    .dataframe thead tr th {\n",
       "        text-align: left;\n",
       "    }\n",
       "\n",
       "    .dataframe thead tr:last-of-type th {\n",
       "        text-align: right;\n",
       "    }\n",
       "</style>\n",
       "<table border=\"1\" class=\"dataframe\">\n",
       "  <thead>\n",
       "    <tr>\n",
       "      <th>Price</th>\n",
       "      <th>Adj Close</th>\n",
       "      <th>Close</th>\n",
       "      <th>High</th>\n",
       "      <th>Low</th>\n",
       "      <th>Open</th>\n",
       "      <th>Volume</th>\n",
       "      <th>ADJ_NORMALIZE</th>\n",
       "      <th>EWM_12</th>\n",
       "      <th>EWM_26</th>\n",
       "      <th>RSI</th>\n",
       "      <th>MACD</th>\n",
       "      <th>MACD_signal</th>\n",
       "      <th>MACD_hist</th>\n",
       "    </tr>\n",
       "    <tr>\n",
       "      <th>Ticker</th>\n",
       "      <th>IBM</th>\n",
       "      <th>IBM</th>\n",
       "      <th>IBM</th>\n",
       "      <th>IBM</th>\n",
       "      <th>IBM</th>\n",
       "      <th>IBM</th>\n",
       "      <th></th>\n",
       "      <th></th>\n",
       "      <th></th>\n",
       "      <th></th>\n",
       "      <th></th>\n",
       "      <th></th>\n",
       "      <th></th>\n",
       "    </tr>\n",
       "    <tr>\n",
       "      <th>Date</th>\n",
       "      <th></th>\n",
       "      <th></th>\n",
       "      <th></th>\n",
       "      <th></th>\n",
       "      <th></th>\n",
       "      <th></th>\n",
       "      <th></th>\n",
       "      <th></th>\n",
       "      <th></th>\n",
       "      <th></th>\n",
       "      <th></th>\n",
       "      <th></th>\n",
       "      <th></th>\n",
       "    </tr>\n",
       "  </thead>\n",
       "  <tbody>\n",
       "    <tr>\n",
       "      <th>2024-12-09</th>\n",
       "      <td>230.000000</td>\n",
       "      <td>230.000000</td>\n",
       "      <td>239.350006</td>\n",
       "      <td>228.910004</td>\n",
       "      <td>238.000000</td>\n",
       "      <td>4970400</td>\n",
       "      <td>0.951417</td>\n",
       "      <td>228.181494</td>\n",
       "      <td>223.103530</td>\n",
       "      <td>59.976120</td>\n",
       "      <td>5.077964</td>\n",
       "      <td>3.547800</td>\n",
       "      <td>1.530165</td>\n",
       "    </tr>\n",
       "    <tr>\n",
       "      <th>2024-12-10</th>\n",
       "      <td>231.720001</td>\n",
       "      <td>231.720001</td>\n",
       "      <td>234.389999</td>\n",
       "      <td>227.800003</td>\n",
       "      <td>228.399994</td>\n",
       "      <td>4769500</td>\n",
       "      <td>0.961810</td>\n",
       "      <td>228.725880</td>\n",
       "      <td>223.741787</td>\n",
       "      <td>61.816086</td>\n",
       "      <td>4.984093</td>\n",
       "      <td>3.835059</td>\n",
       "      <td>1.149034</td>\n",
       "    </tr>\n",
       "    <tr>\n",
       "      <th>2024-12-11</th>\n",
       "      <td>230.119995</td>\n",
       "      <td>230.119995</td>\n",
       "      <td>233.000000</td>\n",
       "      <td>229.130005</td>\n",
       "      <td>232.690002</td>\n",
       "      <td>3872700</td>\n",
       "      <td>0.952142</td>\n",
       "      <td>228.940359</td>\n",
       "      <td>224.214247</td>\n",
       "      <td>59.094541</td>\n",
       "      <td>4.726112</td>\n",
       "      <td>4.013269</td>\n",
       "      <td>0.712843</td>\n",
       "    </tr>\n",
       "    <tr>\n",
       "      <th>2024-12-12</th>\n",
       "      <td>232.259995</td>\n",
       "      <td>232.259995</td>\n",
       "      <td>233.889999</td>\n",
       "      <td>230.380005</td>\n",
       "      <td>230.660004</td>\n",
       "      <td>4515700</td>\n",
       "      <td>0.965073</td>\n",
       "      <td>229.451072</td>\n",
       "      <td>224.810228</td>\n",
       "      <td>61.533863</td>\n",
       "      <td>4.640844</td>\n",
       "      <td>4.138784</td>\n",
       "      <td>0.502060</td>\n",
       "    </tr>\n",
       "    <tr>\n",
       "      <th>2024-12-13</th>\n",
       "      <td>230.820007</td>\n",
       "      <td>230.820007</td>\n",
       "      <td>233.779999</td>\n",
       "      <td>230.259995</td>\n",
       "      <td>232.250000</td>\n",
       "      <td>2757400</td>\n",
       "      <td>0.956372</td>\n",
       "      <td>229.661678</td>\n",
       "      <td>225.255397</td>\n",
       "      <td>58.984929</td>\n",
       "      <td>4.406281</td>\n",
       "      <td>4.192284</td>\n",
       "      <td>0.213997</td>\n",
       "    </tr>\n",
       "  </tbody>\n",
       "</table>\n",
       "</div>"
      ],
      "text/plain": [
       "Price        Adj Close       Close        High         Low        Open  \\\n",
       "Ticker             IBM         IBM         IBM         IBM         IBM   \n",
       "Date                                                                     \n",
       "2024-12-09  230.000000  230.000000  239.350006  228.910004  238.000000   \n",
       "2024-12-10  231.720001  231.720001  234.389999  227.800003  228.399994   \n",
       "2024-12-11  230.119995  230.119995  233.000000  229.130005  232.690002   \n",
       "2024-12-12  232.259995  232.259995  233.889999  230.380005  230.660004   \n",
       "2024-12-13  230.820007  230.820007  233.779999  230.259995  232.250000   \n",
       "\n",
       "Price        Volume ADJ_NORMALIZE      EWM_12      EWM_26        RSI  \\\n",
       "Ticker          IBM                                                    \n",
       "Date                                                                   \n",
       "2024-12-09  4970400      0.951417  228.181494  223.103530  59.976120   \n",
       "2024-12-10  4769500      0.961810  228.725880  223.741787  61.816086   \n",
       "2024-12-11  3872700      0.952142  228.940359  224.214247  59.094541   \n",
       "2024-12-12  4515700      0.965073  229.451072  224.810228  61.533863   \n",
       "2024-12-13  2757400      0.956372  229.661678  225.255397  58.984929   \n",
       "\n",
       "Price           MACD MACD_signal MACD_hist  \n",
       "Ticker                                      \n",
       "Date                                        \n",
       "2024-12-09  5.077964    3.547800  1.530165  \n",
       "2024-12-10  4.984093    3.835059  1.149034  \n",
       "2024-12-11  4.726112    4.013269  0.712843  \n",
       "2024-12-12  4.640844    4.138784  0.502060  \n",
       "2024-12-13  4.406281    4.192284  0.213997  "
      ]
     },
     "execution_count": 3,
     "metadata": {},
     "output_type": "execute_result"
    }
   ],
   "source": [
    "df.tail()"
   ]
  },
  {
   "cell_type": "markdown",
   "metadata": {},
   "source": [
    "### previsione del prezzo di settimana prossima"
   ]
  },
  {
   "cell_type": "code",
   "execution_count": null,
   "metadata": {},
   "outputs": [],
   "source": [
    "pred = TimeSeriesPredictor(df).call()"
   ]
  },
  {
   "cell_type": "code",
   "execution_count": 5,
   "metadata": {},
   "outputs": [
    {
     "data": {
      "text/plain": [
       "{'predictions': array([229.91722, 230.12195, 231.19283, 232.48735, 233.28133],\n",
       "       dtype=float32),\n",
       " 'mae': np.float64(1.9806640625)}"
      ]
     },
     "execution_count": 5,
     "metadata": {},
     "output_type": "execute_result"
    }
   ],
   "source": [
    "pred"
   ]
  },
  {
   "cell_type": "markdown",
   "metadata": {},
   "source": [
    "### previsione prezzo con più features"
   ]
  },
  {
   "cell_type": "code",
   "execution_count": 24,
   "metadata": {},
   "outputs": [],
   "source": [
    "# Utilizzo\n",
    "predictor = MultiFeatureTimeSeriesPredictor(df)"
   ]
  },
  {
   "cell_type": "code",
   "execution_count": 25,
   "metadata": {},
   "outputs": [
    {
     "name": "stderr",
     "output_type": "stream",
     "text": [
      "info - start forecast\n",
      "Preparazione dati per previsione serie temporale\n",
      "Preparazione dati completata\n",
      "Test combinazione parametri: {'batch_size': 16, 'epochs': 20, 'lookback': 30, 'units': 50}\n",
      "Preparazione dati per previsione serie temporale\n",
      "Preparazione dati completata\n"
     ]
    },
    {
     "ename": "ValueError",
     "evalue": "cannot reshape array of size 270 into shape (1,30,1)",
     "output_type": "error",
     "traceback": [
      "\u001b[1;31m---------------------------------------------------------------------------\u001b[0m",
      "\u001b[1;31mValueError\u001b[0m                                Traceback (most recent call last)",
      "Cell \u001b[1;32mIn[25], line 1\u001b[0m\n\u001b[1;32m----> 1\u001b[0m results \u001b[38;5;241m=\u001b[39m \u001b[43mpredictor\u001b[49m\u001b[38;5;241;43m.\u001b[39;49m\u001b[43mcall\u001b[49m\u001b[43m(\u001b[49m\u001b[43m)\u001b[49m\n\u001b[0;32m      2\u001b[0m \u001b[38;5;28mprint\u001b[39m(results)\n",
      "File \u001b[1;32m~\\OneDrive\\Desktop\\Workbench\\stock-project\\src\\model\\lstm_pred.py:41\u001b[0m, in \u001b[0;36mTimeSeriesPredictor.call\u001b[1;34m(self)\u001b[0m\n\u001b[0;32m     39\u001b[0m logging\u001b[38;5;241m.\u001b[39minfo(\u001b[38;5;124m\"\u001b[39m\u001b[38;5;124minfo - start forecast\u001b[39m\u001b[38;5;124m\"\u001b[39m) \n\u001b[0;32m     40\u001b[0m \u001b[38;5;28mself\u001b[39m\u001b[38;5;241m.\u001b[39mprepare_data() \n\u001b[1;32m---> 41\u001b[0m \u001b[38;5;28;43mself\u001b[39;49m\u001b[38;5;241;43m.\u001b[39;49m\u001b[43mtrain_model\u001b[49m\u001b[43m(\u001b[49m\u001b[43mparam_grid\u001b[49m\u001b[38;5;241;43m=\u001b[39;49m\u001b[38;5;28;43mself\u001b[39;49m\u001b[38;5;241;43m.\u001b[39;49m\u001b[43mparam_grid\u001b[49m\u001b[43m)\u001b[49m \n\u001b[0;32m     42\u001b[0m predictions \u001b[38;5;241m=\u001b[39m \u001b[38;5;28mself\u001b[39m\u001b[38;5;241m.\u001b[39mpredict() \n\u001b[0;32m     43\u001b[0m mae \u001b[38;5;241m=\u001b[39m \u001b[38;5;28mself\u001b[39m\u001b[38;5;241m.\u001b[39mevaluate_model() \n",
      "File \u001b[1;32m~\\OneDrive\\Desktop\\Workbench\\stock-project\\src\\model\\lstm_pred.py:94\u001b[0m, in \u001b[0;36mTimeSeriesPredictor.train_model\u001b[1;34m(self, param_grid)\u001b[0m\n\u001b[0;32m     92\u001b[0m \u001b[38;5;66;03m# Esegui GridSearch se param_grid è fornito\u001b[39;00m\n\u001b[0;32m     93\u001b[0m \u001b[38;5;28;01mif\u001b[39;00m param_grid:\n\u001b[1;32m---> 94\u001b[0m     best_config \u001b[38;5;241m=\u001b[39m \u001b[38;5;28;43mself\u001b[39;49m\u001b[38;5;241;43m.\u001b[39;49m\u001b[43mgrid_search\u001b[49m\u001b[43m(\u001b[49m\u001b[43mparam_grid\u001b[49m\u001b[43m)\u001b[49m\n\u001b[0;32m     95\u001b[0m     logging\u001b[38;5;241m.\u001b[39minfo(\u001b[38;5;124mf\u001b[39m\u001b[38;5;124m\"\u001b[39m\u001b[38;5;124mMigliori parametri trovati: \u001b[39m\u001b[38;5;132;01m{\u001b[39;00mbest_config[\u001b[38;5;124m'\u001b[39m\u001b[38;5;124mbest_params\u001b[39m\u001b[38;5;124m'\u001b[39m]\u001b[38;5;132;01m}\u001b[39;00m\u001b[38;5;124m\"\u001b[39m)\n\u001b[0;32m     97\u001b[0m     \u001b[38;5;66;03m# Aggiorna i parametri del modello con la configurazione ottimale\u001b[39;00m\n",
      "File \u001b[1;32m~\\OneDrive\\Desktop\\Workbench\\stock-project\\src\\model\\lstm_pred.py:145\u001b[0m, in \u001b[0;36mTimeSeriesPredictor.grid_search\u001b[1;34m(self, param_grid)\u001b[0m\n\u001b[0;32m    142\u001b[0m \u001b[38;5;28mself\u001b[39m\u001b[38;5;241m.\u001b[39mmodel\u001b[38;5;241m.\u001b[39mfit(\u001b[38;5;28mself\u001b[39m\u001b[38;5;241m.\u001b[39mX_train, \u001b[38;5;28mself\u001b[39m\u001b[38;5;241m.\u001b[39my_train, epochs\u001b[38;5;241m=\u001b[39mepochs, batch_size\u001b[38;5;241m=\u001b[39mbatch_size, verbose\u001b[38;5;241m=\u001b[39m\u001b[38;5;241m0\u001b[39m)\n\u001b[0;32m    144\u001b[0m \u001b[38;5;66;03m# Valutare il modello\u001b[39;00m\n\u001b[1;32m--> 145\u001b[0m mae \u001b[38;5;241m=\u001b[39m \u001b[38;5;28;43mself\u001b[39;49m\u001b[38;5;241;43m.\u001b[39;49m\u001b[43mevaluate_model\u001b[49m\u001b[43m(\u001b[49m\u001b[43m)\u001b[49m\n\u001b[0;32m    146\u001b[0m logging\u001b[38;5;241m.\u001b[39minfo(\u001b[38;5;124mf\u001b[39m\u001b[38;5;124m\"\u001b[39m\u001b[38;5;124mMAE con parametri \u001b[39m\u001b[38;5;132;01m{\u001b[39;00mparams\u001b[38;5;132;01m}\u001b[39;00m\u001b[38;5;124m: \u001b[39m\u001b[38;5;132;01m{\u001b[39;00mmae\u001b[38;5;132;01m}\u001b[39;00m\u001b[38;5;124m\"\u001b[39m)\n\u001b[0;32m    148\u001b[0m \u001b[38;5;66;03m# Aggiornare i migliori parametri\u001b[39;00m\n",
      "File \u001b[1;32m~\\OneDrive\\Desktop\\Workbench\\stock-project\\src\\model\\lstm_pred.py:165\u001b[0m, in \u001b[0;36mTimeSeriesPredictor.evaluate_model\u001b[1;34m(self)\u001b[0m\n\u001b[0;32m    163\u001b[0m \u001b[38;5;28;01mdef\u001b[39;00m \u001b[38;5;21mevaluate_model\u001b[39m(\u001b[38;5;28mself\u001b[39m) \u001b[38;5;241m-\u001b[39m\u001b[38;5;241m>\u001b[39m \u001b[38;5;28mfloat\u001b[39m: \n\u001b[0;32m    164\u001b[0m \u001b[38;5;250m    \u001b[39m\u001b[38;5;124;03m\"\"\"Calcola e restituisce il MAE generico per il test set.\"\"\"\u001b[39;00m \n\u001b[1;32m--> 165\u001b[0m     predictions \u001b[38;5;241m=\u001b[39m \u001b[38;5;28;43mself\u001b[39;49m\u001b[38;5;241;43m.\u001b[39;49m\u001b[43mpredict\u001b[49m\u001b[43m(\u001b[49m\u001b[43m)\u001b[49m \n\u001b[0;32m    166\u001b[0m     y_test_denorm \u001b[38;5;241m=\u001b[39m \u001b[38;5;28mself\u001b[39m\u001b[38;5;241m.\u001b[39mscaler\u001b[38;5;241m.\u001b[39minverse_transform(\u001b[38;5;28mself\u001b[39m\u001b[38;5;241m.\u001b[39my_test\u001b[38;5;241m.\u001b[39mreshape(\u001b[38;5;241m-\u001b[39m\u001b[38;5;241m1\u001b[39m, \u001b[38;5;241m1\u001b[39m)) \n\u001b[0;32m    167\u001b[0m     mae \u001b[38;5;241m=\u001b[39m mean_absolute_error(y_test_denorm[\u001b[38;5;241m-\u001b[39m\u001b[38;5;28mself\u001b[39m\u001b[38;5;241m.\u001b[39mout_steps:], predictions) \n",
      "File \u001b[1;32m~\\OneDrive\\Desktop\\Workbench\\stock-project\\src\\model\\lstm_pred.py:158\u001b[0m, in \u001b[0;36mTimeSeriesPredictor.predict\u001b[1;34m(self)\u001b[0m\n\u001b[0;32m    156\u001b[0m \u001b[38;5;28;01mdef\u001b[39;00m \u001b[38;5;21mpredict\u001b[39m(\u001b[38;5;28mself\u001b[39m) \u001b[38;5;241m-\u001b[39m\u001b[38;5;241m>\u001b[39m np\u001b[38;5;241m.\u001b[39mndarray: \n\u001b[0;32m    157\u001b[0m \u001b[38;5;250m    \u001b[39m\u001b[38;5;124;03m\"\"\"Genera previsioni con il modello addestrato.\"\"\"\u001b[39;00m \n\u001b[1;32m--> 158\u001b[0m     last_data \u001b[38;5;241m=\u001b[39m \u001b[38;5;28;43mself\u001b[39;49m\u001b[38;5;241;43m.\u001b[39;49m\u001b[43mX_test\u001b[49m\u001b[43m[\u001b[49m\u001b[38;5;241;43m-\u001b[39;49m\u001b[38;5;241;43m1\u001b[39;49m\u001b[43m]\u001b[49m\u001b[38;5;241;43m.\u001b[39;49m\u001b[43mreshape\u001b[49m\u001b[43m(\u001b[49m\u001b[38;5;241;43m1\u001b[39;49m\u001b[43m,\u001b[49m\u001b[43m \u001b[49m\u001b[38;5;28;43mself\u001b[39;49m\u001b[38;5;241;43m.\u001b[39;49m\u001b[43mlookback\u001b[49m\u001b[43m,\u001b[49m\u001b[43m \u001b[49m\u001b[38;5;241;43m1\u001b[39;49m\u001b[43m)\u001b[49m \n\u001b[0;32m    159\u001b[0m     predictions \u001b[38;5;241m=\u001b[39m \u001b[38;5;28mself\u001b[39m\u001b[38;5;241m.\u001b[39mmodel\u001b[38;5;241m.\u001b[39mpredict(last_data) \n\u001b[0;32m    160\u001b[0m     predictions_inverse \u001b[38;5;241m=\u001b[39m \u001b[38;5;28mself\u001b[39m\u001b[38;5;241m.\u001b[39mscaler\u001b[38;5;241m.\u001b[39minverse_transform(predictions\u001b[38;5;241m.\u001b[39mreshape(\u001b[38;5;241m-\u001b[39m\u001b[38;5;241m1\u001b[39m, \u001b[38;5;241m1\u001b[39m)) \n",
      "\u001b[1;31mValueError\u001b[0m: cannot reshape array of size 270 into shape (1,30,1)"
     ]
    }
   ],
   "source": [
    "results = predictor.call()\n",
    "print(results)"
   ]
  },
  {
   "cell_type": "markdown",
   "metadata": {},
   "source": [
    "### Prossimi step:\n",
    "#### - individuazione titolo sottovalutato o sopravvalutato\n",
    "#### - previsione con piu features (?)\n",
    "#### - sentiment analysis\n",
    "#### - tutta la parte di gestione e ottimizazzione di portafoglio"
   ]
  }
 ],
 "metadata": {
  "kernelspec": {
   "display_name": ".venv",
   "language": "python",
   "name": "python3"
  },
  "language_info": {
   "codemirror_mode": {
    "name": "ipython",
    "version": 3
   },
   "file_extension": ".py",
   "mimetype": "text/x-python",
   "name": "python",
   "nbconvert_exporter": "python",
   "pygments_lexer": "ipython3",
   "version": "3.9.12"
  }
 },
 "nbformat": 4,
 "nbformat_minor": 2
}
